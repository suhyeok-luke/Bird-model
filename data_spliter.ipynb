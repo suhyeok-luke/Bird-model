{
 "cells": [
  {
   "attachments": {},
   "cell_type": "markdown",
   "metadata": {},
   "source": [
    "## Data Spliter\n",
    "\n",
    "Train, Valid, Test data로 split"
   ]
  },
  {
   "cell_type": "code",
   "execution_count": 3,
   "metadata": {},
   "outputs": [],
   "source": [
    "import os\n",
    "import pandas as pd\n",
    "import splitfolders"
   ]
  },
  {
   "cell_type": "code",
   "execution_count": 4,
   "metadata": {},
   "outputs": [
    {
     "data": {
      "text/plain": [
       "0      seagull\n",
       "1    wildgoose\n",
       "2        crane\n",
       "3         ibis\n",
       "Name: Eng_name, dtype: object"
      ]
     },
     "execution_count": 4,
     "metadata": {},
     "output_type": "execute_result"
    }
   ],
   "source": [
    "df = pd.read_csv('species.csv')\n",
    "species = df['Eng_name']\n",
    "species"
   ]
  },
  {
   "cell_type": "code",
   "execution_count": 5,
   "metadata": {},
   "outputs": [
    {
     "name": "stderr",
     "output_type": "stream",
     "text": [
      "Copying files: 402 files [00:00, 562.51 files/s]\n"
     ]
    }
   ],
   "source": [
    "train_path = \"./data/train/\"\n",
    "valid_path = \"./data/valid/\"\n",
    "test_path = \"./data/test/\"\n",
    "crop_path = \"./data/crop/\"\n",
    "\n",
    "splitfolders.ratio(crop_path, output=\"./data\", seed=77, ratio=(0.8, 0.1, 0.1))"
   ]
  }
 ],
 "metadata": {
  "kernelspec": {
   "display_name": "tf_gpu",
   "language": "python",
   "name": "python3"
  },
  "language_info": {
   "codemirror_mode": {
    "name": "ipython",
    "version": 3
   },
   "file_extension": ".py",
   "mimetype": "text/x-python",
   "name": "python",
   "nbconvert_exporter": "python",
   "pygments_lexer": "ipython3",
   "version": "3.9.16"
  },
  "orig_nbformat": 4
 },
 "nbformat": 4,
 "nbformat_minor": 2
}
