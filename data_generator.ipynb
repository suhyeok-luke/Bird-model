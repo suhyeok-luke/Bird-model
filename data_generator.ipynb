{
 "cells": [
  {
   "attachments": {},
   "cell_type": "markdown",
   "metadata": {},
   "source": [
    "## Data Generator\n",
    "\n",
    "Training용 data image에서 bird에 해당하는 부분만 crop하여 classifier의 data generate"
   ]
  },
  {
   "cell_type": "code",
   "execution_count": 4,
   "metadata": {},
   "outputs": [],
   "source": [
    "import tensorflow as tf\n",
    "import tensorflow_hub as hub\n",
    "import matplotlib.pyplot as plt\n",
    "import tempfile\n",
    "import numpy as np\n",
    "from PIL import Image\n",
    "from PIL import ImageColor\n",
    "from PIL import ImageDraw\n",
    "from PIL import ImageFont\n",
    "from PIL import ImageOps\n",
    "import time\n",
    "from tensorflow import keras\n",
    "from keras.models import Model\n",
    "import pandas as pd\n",
    "import glob\n",
    "import os"
   ]
  },
  {
   "cell_type": "code",
   "execution_count": 3,
   "metadata": {},
   "outputs": [
    {
     "data": {
      "text/plain": [
       "0      seagull\n",
       "1    wildgoose\n",
       "2        crane\n",
       "3         ibis\n",
       "Name: Eng_name, dtype: object"
      ]
     },
     "execution_count": 3,
     "metadata": {},
     "output_type": "execute_result"
    }
   ],
   "source": [
    "df = pd.read_csv('species.csv')\n",
    "species = df['Eng_name']\n",
    "species"
   ]
  },
  {
   "cell_type": "code",
   "execution_count": 27,
   "metadata": {},
   "outputs": [
    {
     "name": "stdout",
     "output_type": "stream",
     "text": [
      "INFO:tensorflow:Saver not created because there are no variables in the graph to restore\n"
     ]
    }
   ],
   "source": [
    "detector = tf.saved_model.load(\"./detector\").signatures['default']"
   ]
  },
  {
   "cell_type": "code",
   "execution_count": 41,
   "metadata": {},
   "outputs": [],
   "source": [
    "def run_detector(detector, path):\n",
    "    img = tf.io.read_file(path)\n",
    "    img = tf.image.decode_jpeg(img, channels=3)\n",
    "    converted_img = tf.image.convert_image_dtype(img, tf.float32)[tf.newaxis, ...]\n",
    "    result = detector(converted_img)\n",
    "    result = {key:value.numpy() for key, value in result.items()}\n",
    "\n",
    "    birdbox = []\n",
    "    for i in range(len(result[\"detection_boxes\"])):\n",
    "        if result[\"detection_class_entities\"][i].decode(\"ascii\") == \"Bird\" and result[\"detection_scores\"][i] >= 0.1 :\n",
    "            ymin, xmin, ymax, xmax = tuple(result[\"detection_boxes\"][i])\n",
    "            im_height, im_width, c = img.shape\n",
    "            (left, right, top, bottom) = (xmin * im_width, xmax * im_width, ymin * im_height, ymax * im_height)\n",
    "            birdbox.append(img[int(top):int(bottom), int(left):int(right)])\n",
    "\n",
    "    return birdbox"
   ]
  },
  {
   "cell_type": "code",
   "execution_count": 74,
   "metadata": {},
   "outputs": [],
   "source": [
    "data_path = \"./data/image\"\n",
    "\n",
    "for bird in species:\n",
    "    if not os.path.exists('./data/crop/' + bird):\n",
    "        os.makedirs('./data/crop/' + bird)\n",
    "    cnt = 0\n",
    "    image_paths = glob.glob(data_path + \"/\" + bird + \"/*\")\n",
    "    for image_path in image_paths:\n",
    "        birdbox = run_detector(detector, image_path)\n",
    "        for bird_image in birdbox:\n",
    "            bird_image = tf.keras.preprocessing.image.array_to_img(bird_image)\n",
    "            bird_image.save(\"./data/crop/\" + bird + \"/\" + bird + str(cnt) + \".png\", \"png\")\n",
    "            cnt = cnt + 1"
   ]
  }
 ],
 "metadata": {
  "kernelspec": {
   "display_name": "tf_gpu",
   "language": "python",
   "name": "python3"
  },
  "language_info": {
   "codemirror_mode": {
    "name": "ipython",
    "version": 3
   },
   "file_extension": ".py",
   "mimetype": "text/x-python",
   "name": "python",
   "nbconvert_exporter": "python",
   "pygments_lexer": "ipython3",
   "version": "3.9.16"
  },
  "orig_nbformat": 4
 },
 "nbformat": 4,
 "nbformat_minor": 2
}
