{
 "cells": [
  {
   "attachments": {},
   "cell_type": "markdown",
   "metadata": {},
   "source": [
    "## Bird Model\n",
    "\n",
    "Input image에서 bird를 detect한 뒤, 해당 bird의 species를 구해 json 파일을 만들어 보냄"
   ]
  },
  {
   "cell_type": "code",
   "execution_count": 1,
   "metadata": {},
   "outputs": [],
   "source": [
    "import tensorflow as tf\n",
    "import tensorflow_hub as hub\n",
    "import matplotlib.pyplot as plt\n",
    "import tempfile\n",
    "from six.moves.urllib.request import urlopen\n",
    "from six import BytesIO\n",
    "import numpy as np\n",
    "from PIL import Image\n",
    "from PIL import ImageColor\n",
    "from PIL import ImageDraw\n",
    "from PIL import ImageFont\n",
    "from PIL import ImageOps\n",
    "import time\n",
    "from tensorflow import keras\n",
    "from keras.models import Model\n",
    "from keras.models import load_model\n",
    "import pandas as pd"
   ]
  },
  {
   "cell_type": "code",
   "execution_count": 3,
   "metadata": {},
   "outputs": [
    {
     "name": "stdout",
     "output_type": "stream",
     "text": [
      "INFO:tensorflow:Saver not created because there are no variables in the graph to restore\n"
     ]
    }
   ],
   "source": [
    "detector = tf.saved_model.load(\"./detector\").signatures['default']\n",
    "classifier = load_model('bird_classifier.h5')"
   ]
  },
  {
   "cell_type": "code",
   "execution_count": 4,
   "metadata": {},
   "outputs": [
    {
     "data": {
      "text/plain": [
       "0      seagull\n",
       "1    wildgoose\n",
       "2        crane\n",
       "3         ibis\n",
       "Name: Eng_name, dtype: object"
      ]
     },
     "execution_count": 4,
     "metadata": {},
     "output_type": "execute_result"
    }
   ],
   "source": [
    "df = pd.read_csv('species.csv')\n",
    "species = df['Eng_name']\n",
    "species"
   ]
  },
  {
   "cell_type": "code",
   "execution_count": 5,
   "metadata": {},
   "outputs": [],
   "source": [
    "def run_detector(detector, path):\n",
    "    img = tf.io.read_file(path)\n",
    "    img = tf.image.decode_jpeg(img, channels=3)\n",
    "    converted_img = tf.image.convert_image_dtype(img, tf.float32)[tf.newaxis, ...]\n",
    "    result = detector(converted_img)\n",
    "    result = {key:value.numpy() for key, value in result.items()}\n",
    "\n",
    "    birdbox = []\n",
    "    for i in range(len(result[\"detection_boxes\"])):\n",
    "        if result[\"detection_class_entities\"][i].decode(\"ascii\") == \"Bird\" and result[\"detection_scores\"][i] >= 0.1 :\n",
    "            ymin, xmin, ymax, xmax = tuple(result[\"detection_boxes\"][i])\n",
    "            im_height, im_width, c = img.shape\n",
    "            (left, right, top, bottom) = (xmin * im_width, xmax * im_width, ymin * im_height, ymax * im_height)\n",
    "            birdbox.append(img[int(top):int(bottom), int(left):int(right)])\n",
    "\n",
    "    return birdbox"
   ]
  },
  {
   "cell_type": "code",
   "execution_count": 10,
   "metadata": {},
   "outputs": [],
   "source": [
    "def run_classifier(classifier, birdbox):\n",
    "    result = []\n",
    "    for bird in birdbox:\n",
    "        input = tf.image.resize(bird, [150, 150])\n",
    "        input = np.array(input/np.amax(input)*255, np.int32)\n",
    "\n",
    "        y = classifier.predict(input[None])\n",
    "        result.append(species[np.argmax(y, axis=1)[0]])\n",
    "\n",
    "    return list(set(result))"
   ]
  },
  {
   "cell_type": "code",
   "execution_count": 14,
   "metadata": {},
   "outputs": [],
   "source": [
    "image_path = \"./predict/predict(seagull).jpg\" # temp\n",
    "\n",
    "result = run_classifier(classifier, run_detector(detector, image_path))"
   ]
  },
  {
   "cell_type": "code",
   "execution_count": 15,
   "metadata": {},
   "outputs": [
    {
     "data": {
      "text/plain": [
       "['wildgoose', 'seagull', 'crane']"
      ]
     },
     "execution_count": 15,
     "metadata": {},
     "output_type": "execute_result"
    }
   ],
   "source": [
    "result"
   ]
  },
  {
   "cell_type": "code",
   "execution_count": 16,
   "metadata": {},
   "outputs": [],
   "source": [
    "import json\n",
    "from collections import OrderedDict\n",
    "\n",
    "output_data = OrderedDict()\n",
    "output_data[\"species\"] = result\n",
    "\n",
    "with open('./output/output.json', 'w', encoding=\"utf-8\") as make_file:\n",
    "    json.dump(output_data, make_file, ensure_ascii=False, indent=\"\\t\")"
   ]
  }
 ],
 "metadata": {
  "kernelspec": {
   "display_name": "tf_gpu",
   "language": "python",
   "name": "python3"
  },
  "language_info": {
   "codemirror_mode": {
    "name": "ipython",
    "version": 3
   },
   "file_extension": ".py",
   "mimetype": "text/x-python",
   "name": "python",
   "nbconvert_exporter": "python",
   "pygments_lexer": "ipython3",
   "version": "3.9.16"
  },
  "orig_nbformat": 4
 },
 "nbformat": 4,
 "nbformat_minor": 2
}
